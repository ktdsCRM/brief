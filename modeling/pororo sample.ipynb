{
 "cells": [
  {
   "cell_type": "code",
   "execution_count": 1,
   "id": "4b1bd7fe",
   "metadata": {
    "ExecuteTime": {
     "end_time": "2021-11-29T12:41:07.803549Z",
     "start_time": "2021-11-29T12:41:05.391752Z"
    }
   },
   "outputs": [],
   "source": [
    "# usage\n",
    "from pororo import Pororo"
   ]
  },
  {
   "cell_type": "code",
   "execution_count": 2,
   "id": "461c7142",
   "metadata": {
    "ExecuteTime": {
     "end_time": "2021-11-29T12:41:24.479389Z",
     "start_time": "2021-11-29T12:41:07.813288Z"
    }
   },
   "outputs": [],
   "source": [
    "summary = Pororo(task = \"summarization\", model = \"abstractive\", lang = \"ko\")"
   ]
  },
  {
   "cell_type": "code",
   "execution_count": 3,
   "id": "62ccd897",
   "metadata": {
    "ExecuteTime": {
     "end_time": "2021-11-24T01:54:35.058917Z",
     "start_time": "2021-11-24T01:54:35.051036Z"
    }
   },
   "outputs": [],
   "source": [
    "text_string = '보조금 집행 위법행위·지적사례 늘어특별감사반, 2017~2018년 축제 점검충주시가 민간에게 \\\n",
    "지원되는 보조사업의 대형축제와 관련해 선정·집행·정산 등 운영실태 전반에 대한 자체 감사를 실시할 \\\n",
    "계획이라고 밝혔다.이는 최근 민간보조사업의 증가와 더불어 보조금 집행관리에 \\\n",
    "대한 위법 부당 행위와 지적사례가 지속적으로 증가함에 따라, \\\n",
    "감사를 통해 취약요인을 점검해 올바른 보조금 사용 풍토를 정착시키겠다는 취지다. \\\n",
    "시는 감사담당관실과 기획예산과 보조금 관련 주무관으로 특별감사반을 \\\n",
    "편성해 2017년부터 2018년까지 집행된 축제성 보조금 집행에 대한 철저한 점검과 감사를 \\\n",
    "통해 부정 수급 및 부정 집행이 확인되면 엄정한 조치를 취할 방침이다. \\\n",
    "시는 지난 15일부터 25일까지 10일간의 사전감사를 통해 보조금 실태를 파악한 후, \\\n",
    "8월15일까지 세부감사를 진행할 예정이라고 전했다.축제성 관련 부정수급 유형을 보면 \\\n",
    "허위·기타 부정한 방법으로 보조금 신청, 사업 실적을 부풀려 보조금을 횡령·편취, \\\n",
    "보조금 교부 목적과 다른 용도로 집행, 보조금으로 취득한 재산에 대해 지자체장의 승인없이 \\\n",
    "임의 처분 등이 해당된다.시는 불법보조금 근절과 효율적인 점검 및 적극적인 시민관심을 유도하기 \\\n",
    "위해 \\'지방보조금 부정수급 신고센터(☏850-5031)\\'를 설치 운영하고 있다. \\\n",
    "지방보조금 부정수급 신고 시 직접방문 및 국민신문고(www.epeople.or.kr), \\\n",
    "충주시홈페이지(www.chungju.or.kr)를 통해 접수하면 되고, 신고취지와 이유를 기재하고 \\\n",
    "부정행위와 관련한 증거자료를 제시하면 된다.단, 익명 신고는 접수치 않는다.시 관계자는 \\\n",
    "\"이번 자체 점검 및 감사를 통해 축제보조금이 제대로 쓰이는지에 대한 반성과 함께 보조금 \\\n",
    "집행의 투명성 및 행정의 신뢰성을 확보하는데 최선을 다하겠다\"고 말했다.한편. \\\n",
    "시는 감사 및 예산부서 합동으로 컨설팅 위주의 상반기 보조금 특정감사(1월10일~20일)를 실시해 \\\n",
    "주의 11건, 시정 6건, 권고 1건을 자체 적발하고 조치한 바 있다.'"
   ]
  },
  {
   "cell_type": "code",
   "execution_count": 4,
   "id": "2f850cfc",
   "metadata": {
    "ExecuteTime": {
     "end_time": "2021-11-24T01:54:38.436261Z",
     "start_time": "2021-11-24T01:54:35.062978Z"
    }
   },
   "outputs": [
    {
     "name": "stdout",
     "output_type": "stream",
     "text": [
      "최근시는 민간보조사업의 증가와 더불어 보조금 집행관리에 대한 위법 부당 행위와 지적사례가 지속적으로 증가함에 따라, 시는 감사담당관실과 기획예산과 보조금 관련 주무관으로 특별감사반을 편성해 2017년부터 2018년까지 집행된 축제성 보조금 집행에 대한 철저한 점검과 감사를 통해 부정 수급 및 부정 집행이 확인되면 엄정한 조치를 취할 방침이다.\n"
     ]
    }
   ],
   "source": [
    "output_txt = summary(text_string)\n",
    "print(output_txt)"
   ]
  },
  {
   "cell_type": "code",
   "execution_count": 6,
   "id": "468dab6d",
   "metadata": {
    "ExecuteTime": {
     "end_time": "2021-11-24T01:55:12.319316Z",
     "start_time": "2021-11-24T01:55:12.308541Z"
    }
   },
   "outputs": [
    {
     "name": "stdout",
     "output_type": "stream",
     "text": [
      "원문 길이: 986\n",
      "요약문 길이: 192\n"
     ]
    }
   ],
   "source": [
    "print('원문 길이:', len(text_string))\n",
    "print('요약문 길이:', len(output_txt))"
   ]
  },
  {
   "cell_type": "code",
   "execution_count": null,
   "id": "3339bd5f",
   "metadata": {},
   "outputs": [],
   "source": []
  }
 ],
 "metadata": {
  "hide_input": false,
  "kernelspec": {
   "display_name": "py37",
   "language": "python",
   "name": "py37"
  },
  "language_info": {
   "codemirror_mode": {
    "name": "ipython",
    "version": 3
   },
   "file_extension": ".py",
   "mimetype": "text/x-python",
   "name": "python",
   "nbconvert_exporter": "python",
   "pygments_lexer": "ipython3",
   "version": "3.7.11"
  },
  "toc": {
   "base_numbering": 1,
   "nav_menu": {},
   "number_sections": true,
   "sideBar": true,
   "skip_h1_title": false,
   "title_cell": "Table of Contents",
   "title_sidebar": "Contents",
   "toc_cell": false,
   "toc_position": {},
   "toc_section_display": true,
   "toc_window_display": true
  },
  "varInspector": {
   "cols": {
    "lenName": 16,
    "lenType": 16,
    "lenVar": 40
   },
   "kernels_config": {
    "python": {
     "delete_cmd_postfix": "",
     "delete_cmd_prefix": "del ",
     "library": "var_list.py",
     "varRefreshCmd": "print(var_dic_list())"
    },
    "r": {
     "delete_cmd_postfix": ") ",
     "delete_cmd_prefix": "rm(",
     "library": "var_list.r",
     "varRefreshCmd": "cat(var_dic_list()) "
    }
   },
   "types_to_exclude": [
    "module",
    "function",
    "builtin_function_or_method",
    "instance",
    "_Feature"
   ],
   "window_display": false
  }
 },
 "nbformat": 4,
 "nbformat_minor": 5
}
